{
 "cells": [
  {
   "cell_type": "markdown",
   "metadata": {},
   "source": [
    "## Import relevant packages"
   ]
  },
  {
   "cell_type": "code",
   "execution_count": 56,
   "metadata": {},
   "outputs": [],
   "source": [
    "import pandas as pd\n",
    "import os\n",
    "import chardet\n",
    "import ast\n",
    "import json"
   ]
  },
  {
   "cell_type": "markdown",
   "metadata": {},
   "source": [
    "### Check the working directory"
   ]
  },
  {
   "cell_type": "code",
   "execution_count": 20,
   "metadata": {},
   "outputs": [
    {
     "data": {
      "text/plain": [
       "'C:\\\\Users\\\\Hwai Teng Teoh'"
      ]
     },
     "execution_count": 20,
     "metadata": {},
     "output_type": "execute_result"
    }
   ],
   "source": [
    "pwd"
   ]
  },
  {
   "cell_type": "markdown",
   "metadata": {},
   "source": [
    "### Import Business.csv file"
   ]
  },
  {
   "cell_type": "code",
   "execution_count": 27,
   "metadata": {},
   "outputs": [
    {
     "data": {
      "text/html": [
       "<div>\n",
       "<style scoped>\n",
       "    .dataframe tbody tr th:only-of-type {\n",
       "        vertical-align: middle;\n",
       "    }\n",
       "\n",
       "    .dataframe tbody tr th {\n",
       "        vertical-align: top;\n",
       "    }\n",
       "\n",
       "    .dataframe thead th {\n",
       "        text-align: right;\n",
       "    }\n",
       "</style>\n",
       "<table border=\"1\" class=\"dataframe\">\n",
       "  <thead>\n",
       "    <tr style=\"text-align: right;\">\n",
       "      <th></th>\n",
       "      <th>name</th>\n",
       "      <th>business_id</th>\n",
       "      <th>address</th>\n",
       "      <th>review_count</th>\n",
       "      <th>stars</th>\n",
       "      <th>categories</th>\n",
       "      <th>longitude</th>\n",
       "      <th>latitude</th>\n",
       "      <th>city</th>\n",
       "      <th>DietaryRestrictions</th>\n",
       "      <th>WiFi</th>\n",
       "      <th>GoodForKids</th>\n",
       "      <th>RestaurantsTakeOut</th>\n",
       "      <th>RestaurantsReservations</th>\n",
       "      <th>Smoking</th>\n",
       "      <th>MealType</th>\n",
       "    </tr>\n",
       "  </thead>\n",
       "  <tbody>\n",
       "    <tr>\n",
       "      <th>0</th>\n",
       "      <td>The Cold Pressery</td>\n",
       "      <td>1nkgeDBTswaYaNm_SSGC8A</td>\n",
       "      <td>4310 Sherwoodtowne Boulevard, Unit 5</td>\n",
       "      <td>155</td>\n",
       "      <td>4.0</td>\n",
       "      <td>Juice Bars &amp; Smoothies</td>\n",
       "      <td>-79.641877</td>\n",
       "      <td>43.599632</td>\n",
       "      <td>MISSISSAUGA</td>\n",
       "      <td>vegan</td>\n",
       "      <td>True</td>\n",
       "      <td>False</td>\n",
       "      <td>False</td>\n",
       "      <td>False</td>\n",
       "      <td>Restricted</td>\n",
       "      <td>dessert</td>\n",
       "    </tr>\n",
       "    <tr>\n",
       "      <th>1</th>\n",
       "      <td>The Cold Pressery</td>\n",
       "      <td>1nkgeDBTswaYaNm_SSGC8A</td>\n",
       "      <td>4310 Sherwoodtowne Boulevard, Unit 5</td>\n",
       "      <td>155</td>\n",
       "      <td>4.0</td>\n",
       "      <td>Cafes</td>\n",
       "      <td>-79.641877</td>\n",
       "      <td>43.599632</td>\n",
       "      <td>MISSISSAUGA</td>\n",
       "      <td>vegan</td>\n",
       "      <td>True</td>\n",
       "      <td>False</td>\n",
       "      <td>False</td>\n",
       "      <td>False</td>\n",
       "      <td>Restricted</td>\n",
       "      <td>dessert</td>\n",
       "    </tr>\n",
       "    <tr>\n",
       "      <th>2</th>\n",
       "      <td>The Cold Pressery</td>\n",
       "      <td>1nkgeDBTswaYaNm_SSGC8A</td>\n",
       "      <td>4310 Sherwoodtowne Boulevard, Unit 5</td>\n",
       "      <td>155</td>\n",
       "      <td>4.0</td>\n",
       "      <td>Vegan</td>\n",
       "      <td>-79.641877</td>\n",
       "      <td>43.599632</td>\n",
       "      <td>MISSISSAUGA</td>\n",
       "      <td>vegan</td>\n",
       "      <td>True</td>\n",
       "      <td>False</td>\n",
       "      <td>False</td>\n",
       "      <td>False</td>\n",
       "      <td>Restricted</td>\n",
       "      <td>dessert</td>\n",
       "    </tr>\n",
       "    <tr>\n",
       "      <th>3</th>\n",
       "      <td>Sugar Marmalade</td>\n",
       "      <td>2PCz_uVX7GOXtGHNXAPXhw</td>\n",
       "      <td>3278 Midland Avenue, Unit D106</td>\n",
       "      <td>70</td>\n",
       "      <td>3.0</td>\n",
       "      <td>Desserts</td>\n",
       "      <td>-79.288043</td>\n",
       "      <td>43.804929</td>\n",
       "      <td>TORONTO</td>\n",
       "      <td>general</td>\n",
       "      <td>True</td>\n",
       "      <td>False</td>\n",
       "      <td>False</td>\n",
       "      <td>False</td>\n",
       "      <td>Restricted</td>\n",
       "      <td>dessert</td>\n",
       "    </tr>\n",
       "    <tr>\n",
       "      <th>4</th>\n",
       "      <td>Sugar Marmalade</td>\n",
       "      <td>2PCz_uVX7GOXtGHNXAPXhw</td>\n",
       "      <td>3278 Midland Avenue, Unit D106</td>\n",
       "      <td>70</td>\n",
       "      <td>3.0</td>\n",
       "      <td>Juice Bars &amp; Smoothies</td>\n",
       "      <td>-79.288043</td>\n",
       "      <td>43.804929</td>\n",
       "      <td>TORONTO</td>\n",
       "      <td>general</td>\n",
       "      <td>True</td>\n",
       "      <td>False</td>\n",
       "      <td>False</td>\n",
       "      <td>False</td>\n",
       "      <td>Restricted</td>\n",
       "      <td>dessert</td>\n",
       "    </tr>\n",
       "  </tbody>\n",
       "</table>\n",
       "</div>"
      ],
      "text/plain": [
       "                name             business_id  \\\n",
       "0  The Cold Pressery  1nkgeDBTswaYaNm_SSGC8A   \n",
       "1  The Cold Pressery  1nkgeDBTswaYaNm_SSGC8A   \n",
       "2  The Cold Pressery  1nkgeDBTswaYaNm_SSGC8A   \n",
       "3    Sugar Marmalade  2PCz_uVX7GOXtGHNXAPXhw   \n",
       "4    Sugar Marmalade  2PCz_uVX7GOXtGHNXAPXhw   \n",
       "\n",
       "                                address  review_count  stars  \\\n",
       "0  4310 Sherwoodtowne Boulevard, Unit 5           155    4.0   \n",
       "1  4310 Sherwoodtowne Boulevard, Unit 5           155    4.0   \n",
       "2  4310 Sherwoodtowne Boulevard, Unit 5           155    4.0   \n",
       "3        3278 Midland Avenue, Unit D106            70    3.0   \n",
       "4        3278 Midland Avenue, Unit D106            70    3.0   \n",
       "\n",
       "               categories  longitude   latitude         city  \\\n",
       "0  Juice Bars & Smoothies -79.641877  43.599632  MISSISSAUGA   \n",
       "1                   Cafes -79.641877  43.599632  MISSISSAUGA   \n",
       "2                   Vegan -79.641877  43.599632  MISSISSAUGA   \n",
       "3                Desserts -79.288043  43.804929      TORONTO   \n",
       "4  Juice Bars & Smoothies -79.288043  43.804929      TORONTO   \n",
       "\n",
       "  DietaryRestrictions  WiFi  GoodForKids  RestaurantsTakeOut  \\\n",
       "0               vegan  True        False               False   \n",
       "1               vegan  True        False               False   \n",
       "2               vegan  True        False               False   \n",
       "3             general  True        False               False   \n",
       "4             general  True        False               False   \n",
       "\n",
       "   RestaurantsReservations     Smoking MealType  \n",
       "0                    False  Restricted  dessert  \n",
       "1                    False  Restricted  dessert  \n",
       "2                    False  Restricted  dessert  \n",
       "3                    False  Restricted  dessert  \n",
       "4                    False  Restricted  dessert  "
      ]
     },
     "execution_count": 27,
     "metadata": {},
     "output_type": "execute_result"
    }
   ],
   "source": [
    "with open(r\"C:\\Users\\Hwai Teng Teoh\\Documents\\Yelp Data\\restaurant.csv\", 'rb') as f:\n",
    "    result = chardet.detect(f.read())  # or readline if the file is large\n",
    "\n",
    "\n",
    "business=pd.read_csv(r\"C:\\Users\\Hwai Teng Teoh\\Documents\\Yelp Data\\restaurant.csv\", encoding=result['encoding'])\n",
    "business.head()"
   ]
  },
  {
   "cell_type": "markdown",
   "metadata": {},
   "source": [
    "### Import Review.json file"
   ]
  },
  {
   "cell_type": "markdown",
   "metadata": {},
   "source": [
    "#### Method 1: Read JSON as strings"
   ]
  },
  {
   "cell_type": "code",
   "execution_count": 28,
   "metadata": {},
   "outputs": [],
   "source": [
    "review_json_path ='Documents/Yelp Data/yelp_academic_dataset_review.json'"
   ]
  },
  {
   "cell_type": "code",
   "execution_count": 36,
   "metadata": {},
   "outputs": [],
   "source": [
    "with open(review_json_path, encoding='utf-8') as json_file:      \n",
    "    data = json_file.readlines()\n",
    "    # this line below may take at least 8-10 minutes of processing for 4-5 million rows. It converts all strings in list to actual json objects. \n",
    "    data = list(map(json.loads, data)) "
   ]
  },
  {
   "cell_type": "code",
   "execution_count": 37,
   "metadata": {},
   "outputs": [],
   "source": [
    "# Convert to Data Frame\n",
    "review=pd.DataFrame(data)\n",
    "\n",
    "# Check \n",
    "type(review)"
   ]
  },
  {
   "cell_type": "code",
   "execution_count": 44,
   "metadata": {},
   "outputs": [
    {
     "data": {
      "text/html": [
       "<div>\n",
       "<style scoped>\n",
       "    .dataframe tbody tr th:only-of-type {\n",
       "        vertical-align: middle;\n",
       "    }\n",
       "\n",
       "    .dataframe tbody tr th {\n",
       "        vertical-align: top;\n",
       "    }\n",
       "\n",
       "    .dataframe thead th {\n",
       "        text-align: right;\n",
       "    }\n",
       "</style>\n",
       "<table border=\"1\" class=\"dataframe\">\n",
       "  <thead>\n",
       "    <tr style=\"text-align: right;\">\n",
       "      <th></th>\n",
       "      <th>0</th>\n",
       "    </tr>\n",
       "  </thead>\n",
       "  <tbody>\n",
       "    <tr>\n",
       "      <th>0</th>\n",
       "      <td>{\"review_id\":\"xQY8N_XvtGbearJ5X4QryQ\",\"user_id...</td>\n",
       "    </tr>\n",
       "    <tr>\n",
       "      <th>1</th>\n",
       "      <td>{\"review_id\":\"UmFMZ8PyXZTY2QcwzsfQYA\",\"user_id...</td>\n",
       "    </tr>\n",
       "    <tr>\n",
       "      <th>2</th>\n",
       "      <td>{\"review_id\":\"LG2ZaYiOgpr2DK_90pYjNw\",\"user_id...</td>\n",
       "    </tr>\n",
       "    <tr>\n",
       "      <th>3</th>\n",
       "      <td>{\"review_id\":\"i6g_oA9Yf9Y31qt0wibXpw\",\"user_id...</td>\n",
       "    </tr>\n",
       "    <tr>\n",
       "      <th>4</th>\n",
       "      <td>{\"review_id\":\"6TdNDKywdbjoTkizeMce8A\",\"user_id...</td>\n",
       "    </tr>\n",
       "  </tbody>\n",
       "</table>\n",
       "</div>"
      ],
      "text/plain": [
       "                                                   0\n",
       "0  {\"review_id\":\"xQY8N_XvtGbearJ5X4QryQ\",\"user_id...\n",
       "1  {\"review_id\":\"UmFMZ8PyXZTY2QcwzsfQYA\",\"user_id...\n",
       "2  {\"review_id\":\"LG2ZaYiOgpr2DK_90pYjNw\",\"user_id...\n",
       "3  {\"review_id\":\"i6g_oA9Yf9Y31qt0wibXpw\",\"user_id...\n",
       "4  {\"review_id\":\"6TdNDKywdbjoTkizeMce8A\",\"user_id..."
      ]
     },
     "execution_count": 44,
     "metadata": {},
     "output_type": "execute_result"
    }
   ],
   "source": [
    "# Check first 5 observations\n",
    "review.head()"
   ]
  },
  {
   "cell_type": "code",
   "execution_count": 45,
   "metadata": {},
   "outputs": [],
   "source": [
    "# Write to CSV\n",
    "csv_name = \"yelp_reviews.csv\"\n",
    "review.to_csv(csv_name, index=False)"
   ]
  },
  {
   "cell_type": "markdown",
   "metadata": {},
   "source": [
    "#### Method 2 (Chosen)"
   ]
  },
  {
   "cell_type": "markdown",
   "metadata": {},
   "source": [
    "#### Get the business ids from the cleansed business data frame"
   ]
  },
  {
   "cell_type": "code",
   "execution_count": 47,
   "metadata": {},
   "outputs": [
    {
     "name": "stdout",
     "output_type": "stream",
     "text": [
      "Getting business_ids\n"
     ]
    }
   ],
   "source": [
    "print('Getting business_ids')\n",
    "business_ids = pd.Series(business['business_id'].index.values, index=business['business_id']).to_dict()"
   ]
  },
  {
   "cell_type": "code",
   "execution_count": 64,
   "metadata": {},
   "outputs": [
    {
     "data": {
      "text/plain": [
       "dict"
      ]
     },
     "execution_count": 64,
     "metadata": {},
     "output_type": "execute_result"
    }
   ],
   "source": [
    "type(business_ids)"
   ]
  },
  {
   "cell_type": "markdown",
   "metadata": {},
   "source": [
    "#### Only read the review data those business ids for the businesses"
   ]
  },
  {
   "cell_type": "code",
   "execution_count": 57,
   "metadata": {},
   "outputs": [
    {
     "name": "stdout",
     "output_type": "stream",
     "text": [
      "Reading review.json\n"
     ]
    }
   ],
   "source": [
    "# REVIEW.JSON\n",
    "review_data = []\n",
    "print('Reading review.json')\n",
    "with open(review_json_path, encoding='utf-8') as f:\n",
    "    for line in f:\n",
    "        newline = ast.literal_eval(line)  # read the line (str) as a dict\n",
    "        if newline['business_id'] in business_ids:\n",
    "            review_data.append(json.loads(line))\n",
    "review_df = pd.DataFrame.from_dict(review_data)\n",
    "# get list of business id's from business.json and only keep reviews of those businesses\n",
    "# would normally write it with to_json but it's too big to fit in memory, so write it line by line"
   ]
  },
  {
   "cell_type": "code",
   "execution_count": 60,
   "metadata": {},
   "outputs": [],
   "source": [
    "# Drop irrelevant columns\n",
    "review_df=review_df.drop(['review_id','user_id'], axis=1)"
   ]
  },
  {
   "cell_type": "code",
   "execution_count": 61,
   "metadata": {},
   "outputs": [
    {
     "data": {
      "text/html": [
       "<div>\n",
       "<style scoped>\n",
       "    .dataframe tbody tr th:only-of-type {\n",
       "        vertical-align: middle;\n",
       "    }\n",
       "\n",
       "    .dataframe tbody tr th {\n",
       "        vertical-align: top;\n",
       "    }\n",
       "\n",
       "    .dataframe thead th {\n",
       "        text-align: right;\n",
       "    }\n",
       "</style>\n",
       "<table border=\"1\" class=\"dataframe\">\n",
       "  <thead>\n",
       "    <tr style=\"text-align: right;\">\n",
       "      <th></th>\n",
       "      <th>business_id</th>\n",
       "      <th>stars</th>\n",
       "      <th>useful</th>\n",
       "      <th>funny</th>\n",
       "      <th>cool</th>\n",
       "      <th>text</th>\n",
       "      <th>date</th>\n",
       "    </tr>\n",
       "  </thead>\n",
       "  <tbody>\n",
       "    <tr>\n",
       "      <th>0</th>\n",
       "      <td>l-nL4BmhzpZjcavooO48PQ</td>\n",
       "      <td>4.0</td>\n",
       "      <td>2</td>\n",
       "      <td>1</td>\n",
       "      <td>1</td>\n",
       "      <td>ORDER In (Delivery) Review\\n\\nI discovered thi...</td>\n",
       "      <td>2015-10-17 01:38:13</td>\n",
       "    </tr>\n",
       "    <tr>\n",
       "      <th>1</th>\n",
       "      <td>qUWqjjjfpB2-4P3He5rsKw</td>\n",
       "      <td>4.0</td>\n",
       "      <td>0</td>\n",
       "      <td>0</td>\n",
       "      <td>0</td>\n",
       "      <td>In the heart of Chinatown, I discovered it enr...</td>\n",
       "      <td>2017-06-06 19:04:10</td>\n",
       "    </tr>\n",
       "    <tr>\n",
       "      <th>2</th>\n",
       "      <td>YJ2Y_asLIlbo-uijVugLow</td>\n",
       "      <td>5.0</td>\n",
       "      <td>0</td>\n",
       "      <td>0</td>\n",
       "      <td>2</td>\n",
       "      <td>As a spicy food fan, when I see a restaurant c...</td>\n",
       "      <td>2015-06-08 18:24:07</td>\n",
       "    </tr>\n",
       "    <tr>\n",
       "      <th>3</th>\n",
       "      <td>9Eghhu_LzEJgDKNgisf3rg</td>\n",
       "      <td>3.0</td>\n",
       "      <td>0</td>\n",
       "      <td>0</td>\n",
       "      <td>0</td>\n",
       "      <td>Was super excited to bring my boyfriend to thi...</td>\n",
       "      <td>2016-08-25 16:25:12</td>\n",
       "    </tr>\n",
       "    <tr>\n",
       "      <th>4</th>\n",
       "      <td>eNFubUPJR7yIQah-NxZN_g</td>\n",
       "      <td>2.0</td>\n",
       "      <td>0</td>\n",
       "      <td>0</td>\n",
       "      <td>0</td>\n",
       "      <td>Decent food. Fishermen lobster or even congee ...</td>\n",
       "      <td>2017-05-26 01:20:43</td>\n",
       "    </tr>\n",
       "  </tbody>\n",
       "</table>\n",
       "</div>"
      ],
      "text/plain": [
       "              business_id  stars  useful  funny  cool  \\\n",
       "0  l-nL4BmhzpZjcavooO48PQ    4.0       2      1     1   \n",
       "1  qUWqjjjfpB2-4P3He5rsKw    4.0       0      0     0   \n",
       "2  YJ2Y_asLIlbo-uijVugLow    5.0       0      0     2   \n",
       "3  9Eghhu_LzEJgDKNgisf3rg    3.0       0      0     0   \n",
       "4  eNFubUPJR7yIQah-NxZN_g    2.0       0      0     0   \n",
       "\n",
       "                                                text                 date  \n",
       "0  ORDER In (Delivery) Review\\n\\nI discovered thi...  2015-10-17 01:38:13  \n",
       "1  In the heart of Chinatown, I discovered it enr...  2017-06-06 19:04:10  \n",
       "2  As a spicy food fan, when I see a restaurant c...  2015-06-08 18:24:07  \n",
       "3  Was super excited to bring my boyfriend to thi...  2016-08-25 16:25:12  \n",
       "4  Decent food. Fishermen lobster or even congee ...  2017-05-26 01:20:43  "
      ]
     },
     "execution_count": 61,
     "metadata": {},
     "output_type": "execute_result"
    }
   ],
   "source": [
    "# Check first 5 observations \n",
    "review_df.head()"
   ]
  },
  {
   "cell_type": "markdown",
   "metadata": {},
   "source": [
    "#### Write to csv file"
   ]
  },
  {
   "cell_type": "code",
   "execution_count": 65,
   "metadata": {},
   "outputs": [],
   "source": [
    "csv_name = \"reviews.csv\"\n",
    "review_df.to_csv(csv_name, index=False)"
   ]
  }
 ],
 "metadata": {
  "kernelspec": {
   "display_name": "Python 3",
   "language": "python",
   "name": "python3"
  },
  "language_info": {
   "codemirror_mode": {
    "name": "ipython",
    "version": 3
   },
   "file_extension": ".py",
   "mimetype": "text/x-python",
   "name": "python",
   "nbconvert_exporter": "python",
   "pygments_lexer": "ipython3",
   "version": "3.8.5"
  }
 },
 "nbformat": 4,
 "nbformat_minor": 4
}
